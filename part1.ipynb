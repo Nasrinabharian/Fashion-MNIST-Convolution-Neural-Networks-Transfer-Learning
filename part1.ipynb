{
  "cells": [
    {
      "cell_type": "code",
      "execution_count": 27,
      "metadata": {
        "id": "ucfPRSp8pP9t"
      },
      "outputs": [],
      "source": [
        "# importing fashion-mnist dataset from keras\n",
        "from keras.datasets import fashion_mnist\n",
        "#split data to test and train\n",
        "(train_X,train_Y), (test_X,test_Y) = fashion_mnist.load_data()"
      ]
    },
    {
      "cell_type": "code",
      "execution_count": 28,
      "metadata": {
        "colab": {
          "base_uri": "https://localhost:8080/"
        },
        "id": "PYlXQ_qzpP9w",
        "outputId": "0ed30790-9b49-43b3-a4f7-2728bf47d413"
      },
      "outputs": [
        {
          "output_type": "stream",
          "name": "stdout",
          "text": [
            "Train shape and dimention:  (60000, 28, 28) (60000,)\n",
            "Test shape and dimnetion:  (10000, 28, 28) (10000,)\n"
          ]
        }
      ],
      "source": [
        "import numpy as np\n",
        "from tensorflow.keras.utils import to_categorical\n",
        "import matplotlib.pyplot as plt\n",
        "%matplotlib inline\n",
        "\n",
        "print('Train shape and dimention: ', train_X.shape, train_Y.shape)\n",
        "print('Test shape and dimnetion: ', test_X.shape, test_Y.shape)"
      ]
    },
    {
      "cell_type": "code",
      "execution_count": 29,
      "metadata": {
        "colab": {
          "base_uri": "https://localhost:8080/"
        },
        "id": "ON8gygqfpP9y",
        "outputId": "4024f7d1-209b-453b-bed5-651d33b81f85"
      },
      "outputs": [
        {
          "output_type": "stream",
          "name": "stdout",
          "text": [
            "Num of outputs:  10\n",
            "Num of classes:  [0 1 2 3 4 5 6 7 8 9]\n"
          ]
        }
      ],
      "source": [
        "classes = np.unique(train_Y)\n",
        "nclasses = len(classes)\n",
        "print('Num of outputs: ', nclasses)\n",
        "print('Num of classes: ', classes)"
      ]
    },
    {
      "cell_type": "code",
      "execution_count": 30,
      "metadata": {
        "id": "vkz-HFt9pP9z"
      },
      "outputs": [],
      "source": [
        "tr_x = train_X\n",
        "ts_x = test_X\n",
        "tr_y = train_Y\n",
        "ts_y = test_Y"
      ]
    },
    {
      "cell_type": "code",
      "execution_count": 31,
      "metadata": {
        "colab": {
          "base_uri": "https://localhost:8080/"
        },
        "id": "Q61P5FqNpP90",
        "outputId": "3e7c0cde-3cf5-4827-a0d5-1f9ac6257015"
      },
      "outputs": [
        {
          "output_type": "execute_result",
          "data": {
            "text/plain": [
              "((60000, 28, 28, 1), (10000, 28, 28, 1))"
            ]
          },
          "metadata": {},
          "execution_count": 31
        }
      ],
      "source": [
        "#converting to vector\n",
        "train_X = train_X.reshape(-1, 28, 28, 1)\n",
        "test_X = test_X.reshape(-1, 28, 28, 1)\n",
        "train_X.shape, test_X.shape"
      ]
    },
    {
      "cell_type": "code",
      "execution_count": 32,
      "metadata": {
        "id": "eUTATfPmpP91"
      },
      "outputs": [],
      "source": [
        "#normalize\n",
        "train_X = train_X.astype('float32')\n",
        "test_X = test_X.astype('float32')\n",
        "train_X = train_X / 255\n",
        "test_X = test_X / 255"
      ]
    },
    {
      "cell_type": "code",
      "execution_count": 33,
      "metadata": {
        "colab": {
          "base_uri": "https://localhost:8080/"
        },
        "id": "Dj4pHdLCpP91",
        "outputId": "a05d39ca-f829-4407-ffa5-889ca600b5d2"
      },
      "outputs": [
        {
          "output_type": "stream",
          "name": "stdout",
          "text": [
            "Main label:  9\n",
            "One-hot label:  [0. 0. 0. 0. 0. 0. 0. 0. 0. 1.]\n"
          ]
        }
      ],
      "source": [
        "#convert to one-hot vector\n",
        "train_Y_one_hot = to_categorical(train_Y)\n",
        "test_Y_one_hot = to_categorical(test_Y)\n",
        "\n",
        "print('Main label: ', train_Y[0])\n",
        "print('One-hot label: ', train_Y_one_hot[0])"
      ]
    },
    {
      "cell_type": "code",
      "execution_count": 34,
      "metadata": {
        "id": "5rGYXocjpP92"
      },
      "outputs": [],
      "source": [
        "from sklearn.model_selection import train_test_split\n",
        "train_X, valid_X, train_label, valid_label = train_test_split(train_X, train_Y_one_hot, test_size = 0.2, random_state = 13)"
      ]
    },
    {
      "cell_type": "code",
      "execution_count": 35,
      "metadata": {
        "colab": {
          "base_uri": "https://localhost:8080/"
        },
        "id": "IeNnygD9pP92",
        "outputId": "a4574f0f-8041-4c3b-ec3d-cf758c3afc22"
      },
      "outputs": [
        {
          "output_type": "execute_result",
          "data": {
            "text/plain": [
              "((48000, 28, 28, 1), (12000, 28, 28, 1), (48000, 10), (12000, 10))"
            ]
          },
          "metadata": {},
          "execution_count": 35
        }
      ],
      "source": [
        "train_X.shape, valid_X.shape, train_label.shape, valid_label.shape"
      ]
    },
    {
      "cell_type": "code",
      "execution_count": 36,
      "metadata": {
        "id": "B4Js_5typP93"
      },
      "outputs": [],
      "source": [
        "import keras\n",
        "from keras.models import Sequential, Input, Model \n",
        "from keras.layers import Dense, Dropout, Flatten\n",
        "from keras.layers import Conv2D, MaxPooling2D\n",
        "from tensorflow.keras.layers import BatchNormalization\n",
        "from keras.layers.advanced_activations import LeakyReLU"
      ]
    },
    {
      "cell_type": "code",
      "execution_count": 37,
      "metadata": {
        "id": "GV1DLXwWpP94"
      },
      "outputs": [],
      "source": [
        "batch_size = 64\n",
        "epochs = 20\n",
        "num_classes = 10"
      ]
    },
    {
      "cell_type": "code",
      "source": [
        "pip install keras-tuner --upgrade"
      ],
      "metadata": {
        "colab": {
          "base_uri": "https://localhost:8080/"
        },
        "id": "LOoqVRVUSIxD",
        "outputId": "6bf81fee-4586-4cc0-8400-09e0043568ab"
      },
      "execution_count": 38,
      "outputs": [
        {
          "output_type": "stream",
          "name": "stdout",
          "text": [
            "Looking in indexes: https://pypi.org/simple, https://us-python.pkg.dev/colab-wheels/public/simple/\n",
            "Requirement already satisfied: keras-tuner in /usr/local/lib/python3.7/dist-packages (1.1.2)\n",
            "Requirement already satisfied: numpy in /usr/local/lib/python3.7/dist-packages (from keras-tuner) (1.21.6)\n",
            "Requirement already satisfied: tensorboard in /usr/local/lib/python3.7/dist-packages (from keras-tuner) (2.8.0)\n",
            "Requirement already satisfied: ipython in /usr/local/lib/python3.7/dist-packages (from keras-tuner) (5.5.0)\n",
            "Requirement already satisfied: kt-legacy in /usr/local/lib/python3.7/dist-packages (from keras-tuner) (1.0.4)\n",
            "Requirement already satisfied: packaging in /usr/local/lib/python3.7/dist-packages (from keras-tuner) (21.3)\n",
            "Requirement already satisfied: requests in /usr/local/lib/python3.7/dist-packages (from keras-tuner) (2.23.0)\n",
            "Requirement already satisfied: prompt-toolkit<2.0.0,>=1.0.4 in /usr/local/lib/python3.7/dist-packages (from ipython->keras-tuner) (1.0.18)\n",
            "Requirement already satisfied: traitlets>=4.2 in /usr/local/lib/python3.7/dist-packages (from ipython->keras-tuner) (5.1.1)\n",
            "Requirement already satisfied: pexpect in /usr/local/lib/python3.7/dist-packages (from ipython->keras-tuner) (4.8.0)\n",
            "Requirement already satisfied: pygments in /usr/local/lib/python3.7/dist-packages (from ipython->keras-tuner) (2.6.1)\n",
            "Requirement already satisfied: simplegeneric>0.8 in /usr/local/lib/python3.7/dist-packages (from ipython->keras-tuner) (0.8.1)\n",
            "Requirement already satisfied: pickleshare in /usr/local/lib/python3.7/dist-packages (from ipython->keras-tuner) (0.7.5)\n",
            "Requirement already satisfied: decorator in /usr/local/lib/python3.7/dist-packages (from ipython->keras-tuner) (4.4.2)\n",
            "Requirement already satisfied: setuptools>=18.5 in /usr/local/lib/python3.7/dist-packages (from ipython->keras-tuner) (57.4.0)\n",
            "Requirement already satisfied: six>=1.9.0 in /usr/local/lib/python3.7/dist-packages (from prompt-toolkit<2.0.0,>=1.0.4->ipython->keras-tuner) (1.15.0)\n",
            "Requirement already satisfied: wcwidth in /usr/local/lib/python3.7/dist-packages (from prompt-toolkit<2.0.0,>=1.0.4->ipython->keras-tuner) (0.2.5)\n",
            "Requirement already satisfied: pyparsing!=3.0.5,>=2.0.2 in /usr/local/lib/python3.7/dist-packages (from packaging->keras-tuner) (3.0.9)\n",
            "Requirement already satisfied: ptyprocess>=0.5 in /usr/local/lib/python3.7/dist-packages (from pexpect->ipython->keras-tuner) (0.7.0)\n",
            "Requirement already satisfied: urllib3!=1.25.0,!=1.25.1,<1.26,>=1.21.1 in /usr/local/lib/python3.7/dist-packages (from requests->keras-tuner) (1.24.3)\n",
            "Requirement already satisfied: idna<3,>=2.5 in /usr/local/lib/python3.7/dist-packages (from requests->keras-tuner) (2.10)\n",
            "Requirement already satisfied: chardet<4,>=3.0.2 in /usr/local/lib/python3.7/dist-packages (from requests->keras-tuner) (3.0.4)\n",
            "Requirement already satisfied: certifi>=2017.4.17 in /usr/local/lib/python3.7/dist-packages (from requests->keras-tuner) (2022.5.18.1)\n",
            "Requirement already satisfied: wheel>=0.26 in /usr/local/lib/python3.7/dist-packages (from tensorboard->keras-tuner) (0.37.1)\n",
            "Requirement already satisfied: grpcio>=1.24.3 in /usr/local/lib/python3.7/dist-packages (from tensorboard->keras-tuner) (1.46.3)\n",
            "Requirement already satisfied: absl-py>=0.4 in /usr/local/lib/python3.7/dist-packages (from tensorboard->keras-tuner) (1.0.0)\n",
            "Requirement already satisfied: tensorboard-data-server<0.7.0,>=0.6.0 in /usr/local/lib/python3.7/dist-packages (from tensorboard->keras-tuner) (0.6.1)\n",
            "Requirement already satisfied: markdown>=2.6.8 in /usr/local/lib/python3.7/dist-packages (from tensorboard->keras-tuner) (3.3.7)\n",
            "Requirement already satisfied: google-auth-oauthlib<0.5,>=0.4.1 in /usr/local/lib/python3.7/dist-packages (from tensorboard->keras-tuner) (0.4.6)\n",
            "Requirement already satisfied: werkzeug>=0.11.15 in /usr/local/lib/python3.7/dist-packages (from tensorboard->keras-tuner) (1.0.1)\n",
            "Requirement already satisfied: tensorboard-plugin-wit>=1.6.0 in /usr/local/lib/python3.7/dist-packages (from tensorboard->keras-tuner) (1.8.1)\n",
            "Requirement already satisfied: google-auth<3,>=1.6.3 in /usr/local/lib/python3.7/dist-packages (from tensorboard->keras-tuner) (1.35.0)\n",
            "Requirement already satisfied: protobuf>=3.6.0 in /usr/local/lib/python3.7/dist-packages (from tensorboard->keras-tuner) (3.17.3)\n",
            "Requirement already satisfied: rsa<5,>=3.1.4 in /usr/local/lib/python3.7/dist-packages (from google-auth<3,>=1.6.3->tensorboard->keras-tuner) (4.8)\n",
            "Requirement already satisfied: pyasn1-modules>=0.2.1 in /usr/local/lib/python3.7/dist-packages (from google-auth<3,>=1.6.3->tensorboard->keras-tuner) (0.2.8)\n",
            "Requirement already satisfied: cachetools<5.0,>=2.0.0 in /usr/local/lib/python3.7/dist-packages (from google-auth<3,>=1.6.3->tensorboard->keras-tuner) (4.2.4)\n",
            "Requirement already satisfied: requests-oauthlib>=0.7.0 in /usr/local/lib/python3.7/dist-packages (from google-auth-oauthlib<0.5,>=0.4.1->tensorboard->keras-tuner) (1.3.1)\n",
            "Requirement already satisfied: importlib-metadata>=4.4 in /usr/local/lib/python3.7/dist-packages (from markdown>=2.6.8->tensorboard->keras-tuner) (4.11.4)\n",
            "Requirement already satisfied: typing-extensions>=3.6.4 in /usr/local/lib/python3.7/dist-packages (from importlib-metadata>=4.4->markdown>=2.6.8->tensorboard->keras-tuner) (4.2.0)\n",
            "Requirement already satisfied: zipp>=0.5 in /usr/local/lib/python3.7/dist-packages (from importlib-metadata>=4.4->markdown>=2.6.8->tensorboard->keras-tuner) (3.8.0)\n",
            "Requirement already satisfied: pyasn1<0.5.0,>=0.4.6 in /usr/local/lib/python3.7/dist-packages (from pyasn1-modules>=0.2.1->google-auth<3,>=1.6.3->tensorboard->keras-tuner) (0.4.8)\n",
            "Requirement already satisfied: oauthlib>=3.0.0 in /usr/local/lib/python3.7/dist-packages (from requests-oauthlib>=0.7.0->google-auth-oauthlib<0.5,>=0.4.1->tensorboard->keras-tuner) (3.2.0)\n"
          ]
        }
      ]
    },
    {
      "cell_type": "code",
      "execution_count": 39,
      "metadata": {
        "id": "a-Fn-uLsywWw"
      },
      "outputs": [],
      "source": [
        "from tensorflow.keras.optimizers import Adam\n",
        "import tensorflow as tf\n",
        "import tensorflow.keras as keras\n",
        "from tensorflow.keras.layers import ( Conv2D ,MaxPooling2D,\n",
        "                                     Dropout,Dense,Flatten)\n",
        "\n",
        "from kerastuner.tuners import RandomSearch\n",
        "from kerastuner.engine.hyperparameters import HyperParameters\n",
        "from kerastuner import HyperModel\n",
        "\n",
        "import pandas as pd\n",
        "import numpy as np\n",
        "#compile for accuracy\n",
        "\n",
        "def model_builder( hp):          #hp means hyper parameters\n",
        "      fashion_model = Sequential()\n",
        "      \n",
        "      fashion_model.add(Conv2D(32, kernel_size = (3, 3), activation = 'linear', input_shape=(28,28,1), padding = 'same'))\n",
        "      fashion_model.add(LeakyReLU(alpha = 0.1))\n",
        "      fashion_model.add(MaxPooling2D((2,2), padding = 'same'))\n",
        "\n",
        "      fashion_model.add(Conv2D(64, (3, 3), activation = 'linear', padding = 'same'))\n",
        "      fashion_model.add(LeakyReLU(alpha = 0.1))\n",
        "      fashion_model.add(MaxPooling2D(pool_size = (2,2), padding = 'same'))\n",
        "\n",
        "      fashion_model.add(Conv2D(128, (3, 3), activation = 'linear', padding = 'same'))\n",
        "      fashion_model.add(LeakyReLU(alpha = 0.1))                  \n",
        "      fashion_model.add(MaxPooling2D(pool_size=(2, 2), padding = 'same'))\n",
        "\n",
        "      fashion_model.add(Flatten())\n",
        "\n",
        "      hp_units = hp.Int('units', min_value=32, max_value=512, step=32)\n",
        "\n",
        "      fashion_model.add(Dense(units=hp_units, activation = 'linear'))\n",
        "      fashion_model.add(LeakyReLU(alpha = 0.1))                  \n",
        "      fashion_model.add(Dense(num_classes, activation = 'softmax'))\n",
        "\n",
        "      hp_learning_rate = hp.Choice('learning_rate', values=[1e-2, 1e-3, 1e-4])\n",
        "\n",
        "      fashion_model.compile(loss = keras.losses.categorical_crossentropy, optimizer = Adam(), metrics = ['accuracy'])\n",
        "      return fashion_model"
      ]
    },
    {
      "cell_type": "code",
      "source": [
        "import keras_tuner as kt\n",
        "#Instantiate the tuner and perform hypertuning\n",
        "tuner = kt.Hyperband(model_builder,\n",
        "                     objective='val_accuracy',\n",
        "                     max_epochs=10,\n",
        "                     factor=3\n",
        "                     )\n"
      ],
      "metadata": {
        "id": "4uG-dsDTcMeG",
        "colab": {
          "base_uri": "https://localhost:8080/"
        },
        "outputId": "d41b9cd8-e057-4fa5-b9d4-a21e07837076"
      },
      "execution_count": 40,
      "outputs": [
        {
          "output_type": "stream",
          "name": "stdout",
          "text": [
            "INFO:tensorflow:Reloading Oracle from existing project ./untitled_project/oracle.json\n"
          ]
        }
      ]
    },
    {
      "cell_type": "code",
      "source": [
        "stop_early = tf.keras.callbacks.EarlyStopping(monitor='val_loss', patience=5)\n",
        "tuner.search(train_X,train_Y_one_hot, epochs=50, validation_split=0.2, callbacks=[stop_early])\n",
        "\n",
        "# Get the optimal hyperparameters\n",
        "best_hps=tuner.get_best_hyperparameters(num_trials=1)[0]\n",
        "\n",
        "print(f\"\"\"\n",
        "The hyperparameter search is complete. The optimal number of units in the first densely-connected\n",
        "layer is {best_hps.get('units')} and the optimal learning rate for the optimizer\n",
        "is {best_hps.get('learning_rate')}.\n",
        "\"\"\")\n"
      ],
      "metadata": {
        "colab": {
          "base_uri": "https://localhost:8080/"
        },
        "id": "xyT6OAo1cfDx",
        "outputId": "681c4e1a-bc8e-40d9-f577-aaf321db6908"
      },
      "execution_count": 41,
      "outputs": [
        {
          "output_type": "stream",
          "name": "stdout",
          "text": [
            "Trial 30 Complete [00h 14m 22s]\n",
            "val_accuracy: 0.10260416567325592\n",
            "\n",
            "Best val_accuracy So Far: 0.1029166653752327\n",
            "Total elapsed time: 02h 59m 33s\n",
            "INFO:tensorflow:Oracle triggered exit\n",
            "\n",
            "The hyperparameter search is complete. The optimal number of units in the first densely-connected\n",
            "layer is 192 and the optimal learning rate for the optimizer\n",
            "is 0.001.\n",
            "\n"
          ]
        }
      ]
    },
    {
      "cell_type": "code",
      "source": [
        "model = tuner.hypermodel.build(best_hps)\n",
        "fashion_train = model.fit(train_X,train_Y_one_hot, epochs=20, validation_split=0.2)\n"
      ],
      "metadata": {
        "id": "eHjC6u0BglkJ",
        "colab": {
          "base_uri": "https://localhost:8080/"
        },
        "outputId": "b447ab45-fd27-4292-eb8a-9e0136b3b072"
      },
      "execution_count": 42,
      "outputs": [
        {
          "output_type": "stream",
          "name": "stdout",
          "text": [
            "Epoch 1/20\n",
            "1200/1200 [==============================] - 105s 87ms/step - loss: 2.3033 - accuracy: 0.0989 - val_loss: 2.3027 - val_accuracy: 0.0984\n",
            "Epoch 2/20\n",
            "1200/1200 [==============================] - 85s 71ms/step - loss: 2.3036 - accuracy: 0.1004 - val_loss: 2.3029 - val_accuracy: 0.1003\n",
            "Epoch 3/20\n",
            "1200/1200 [==============================] - 88s 73ms/step - loss: 2.3031 - accuracy: 0.0992 - val_loss: 2.3028 - val_accuracy: 0.1019\n",
            "Epoch 4/20\n",
            "1200/1200 [==============================] - 88s 73ms/step - loss: 2.3033 - accuracy: 0.0982 - val_loss: 2.3027 - val_accuracy: 0.1015\n",
            "Epoch 5/20\n",
            "1200/1200 [==============================] - 88s 73ms/step - loss: 2.3031 - accuracy: 0.0984 - val_loss: 2.3027 - val_accuracy: 0.1001\n",
            "Epoch 6/20\n",
            "1200/1200 [==============================] - 86s 71ms/step - loss: 2.3035 - accuracy: 0.1001 - val_loss: 2.3029 - val_accuracy: 0.1011\n",
            "Epoch 7/20\n",
            "1200/1200 [==============================] - 87s 72ms/step - loss: 2.3031 - accuracy: 0.0983 - val_loss: 2.3030 - val_accuracy: 0.0966\n",
            "Epoch 8/20\n",
            "1200/1200 [==============================] - 86s 72ms/step - loss: 2.3033 - accuracy: 0.0962 - val_loss: 2.3029 - val_accuracy: 0.1018\n",
            "Epoch 9/20\n",
            "1200/1200 [==============================] - 84s 70ms/step - loss: 2.3030 - accuracy: 0.0997 - val_loss: 2.3033 - val_accuracy: 0.1023\n",
            "Epoch 10/20\n",
            "1200/1200 [==============================] - 83s 69ms/step - loss: 2.3033 - accuracy: 0.1033 - val_loss: 2.3031 - val_accuracy: 0.0971\n",
            "Epoch 11/20\n",
            "1200/1200 [==============================] - 85s 71ms/step - loss: 2.3031 - accuracy: 0.1019 - val_loss: 2.3028 - val_accuracy: 0.0972\n",
            "Epoch 12/20\n",
            "1200/1200 [==============================] - 84s 70ms/step - loss: 2.3031 - accuracy: 0.1009 - val_loss: 2.3050 - val_accuracy: 0.0996\n",
            "Epoch 13/20\n",
            "1200/1200 [==============================] - 83s 70ms/step - loss: 2.3029 - accuracy: 0.1035 - val_loss: 2.3028 - val_accuracy: 0.1027\n",
            "Epoch 14/20\n",
            "1200/1200 [==============================] - 83s 69ms/step - loss: 2.3027 - accuracy: 0.1039 - val_loss: 2.3049 - val_accuracy: 0.1022\n",
            "Epoch 15/20\n",
            "1200/1200 [==============================] - 85s 71ms/step - loss: 2.3014 - accuracy: 0.1060 - val_loss: 2.3042 - val_accuracy: 0.0965\n",
            "Epoch 16/20\n",
            "1200/1200 [==============================] - 84s 70ms/step - loss: 2.3001 - accuracy: 0.1079 - val_loss: 2.3069 - val_accuracy: 0.1004\n",
            "Epoch 17/20\n",
            "1200/1200 [==============================] - 84s 70ms/step - loss: 2.2970 - accuracy: 0.1091 - val_loss: 2.3124 - val_accuracy: 0.0993\n",
            "Epoch 18/20\n",
            "1200/1200 [==============================] - 84s 70ms/step - loss: 2.2906 - accuracy: 0.1168 - val_loss: 2.3159 - val_accuracy: 0.1024\n",
            "Epoch 19/20\n",
            "1200/1200 [==============================] - 85s 71ms/step - loss: 2.2755 - accuracy: 0.1314 - val_loss: 2.3353 - val_accuracy: 0.1011\n",
            "Epoch 20/20\n",
            "1200/1200 [==============================] - 83s 70ms/step - loss: 2.2434 - accuracy: 0.1488 - val_loss: 2.3609 - val_accuracy: 0.1003\n"
          ]
        }
      ]
    },
    {
      "cell_type": "code",
      "source": [
        "import keras_tuner as kt\n",
        "#Instantiate the tuner and perform hypertuning\n",
        "tuner1 = kt.RandomSearch(model_builder,\n",
        "                     objective='val_accuracy',\n",
        "                    )\n"
      ],
      "metadata": {
        "colab": {
          "base_uri": "https://localhost:8080/"
        },
        "id": "jNam9X-ciWtT",
        "outputId": "49a57c34-f7c9-4d62-b9d8-7c26e556172b"
      },
      "execution_count": 43,
      "outputs": [
        {
          "output_type": "stream",
          "name": "stdout",
          "text": [
            "INFO:tensorflow:Reloading Oracle from existing project ./untitled_project/oracle.json\n",
            "INFO:tensorflow:Reloading Tuner from ./untitled_project/tuner0.json\n"
          ]
        }
      ]
    },
    {
      "cell_type": "code",
      "source": [
        "stop_early = tf.keras.callbacks.EarlyStopping(monitor='val_loss', patience=5)\n",
        "tuner1.search(train_X,train_Y_one_hot, epochs=50, validation_split=0.2, callbacks=[stop_early])\n",
        "\n",
        "# Get the optimal hyperparameters\n",
        "best_hps=tuner1.get_best_hyperparameters(num_trials=1)[0]\n",
        "\n",
        "print(f\"\"\"\n",
        "The hyperparameter search is complete. The optimal number of units in the first densely-connected\n",
        "layer is {best_hps.get('units')} and the optimal learning rate for the optimizer\n",
        "is {best_hps.get('learning_rate')}.\n",
        "\"\"\")\n"
      ],
      "metadata": {
        "colab": {
          "base_uri": "https://localhost:8080/"
        },
        "id": "DjL3NDcAiayE",
        "outputId": "ac62c8e4-e323-4ab0-b1b9-a534b97bf8b9"
      },
      "execution_count": 44,
      "outputs": [
        {
          "output_type": "stream",
          "name": "stdout",
          "text": [
            "INFO:tensorflow:Oracle triggered exit\n",
            "\n",
            "The hyperparameter search is complete. The optimal number of units in the first densely-connected\n",
            "layer is 192 and the optimal learning rate for the optimizer\n",
            "is 0.001.\n",
            "\n"
          ]
        }
      ]
    },
    {
      "cell_type": "code",
      "source": [
        "model1 = tuner1.hypermodel.build(best_hps)\n",
        "fashion_train1 = model.fit(train_X,train_Y_one_hot, epochs=20, validation_split=0.2)\n"
      ],
      "metadata": {
        "colab": {
          "base_uri": "https://localhost:8080/"
        },
        "id": "FAcqE5WrjP5O",
        "outputId": "0a58b95d-d0f8-4557-c1e7-0fbbbd3f53b2"
      },
      "execution_count": 45,
      "outputs": [
        {
          "output_type": "stream",
          "name": "stdout",
          "text": [
            "Epoch 1/20\n",
            "1200/1200 [==============================] - 85s 70ms/step - loss: 2.3034 - accuracy: 0.0993 - val_loss: 2.3036 - val_accuracy: 0.0978\n",
            "Epoch 2/20\n",
            "1200/1200 [==============================] - 86s 72ms/step - loss: 2.3032 - accuracy: 0.1003 - val_loss: 2.3030 - val_accuracy: 0.0966\n",
            "Epoch 3/20\n",
            "1200/1200 [==============================] - 86s 71ms/step - loss: 2.3031 - accuracy: 0.0996 - val_loss: 2.3026 - val_accuracy: 0.1021\n",
            "Epoch 4/20\n",
            "1200/1200 [==============================] - 85s 71ms/step - loss: 2.3034 - accuracy: 0.1013 - val_loss: 2.3031 - val_accuracy: 0.1003\n",
            "Epoch 5/20\n",
            "1200/1200 [==============================] - 87s 73ms/step - loss: 2.3033 - accuracy: 0.0986 - val_loss: 2.3028 - val_accuracy: 0.1027\n",
            "Epoch 6/20\n",
            "1200/1200 [==============================] - 92s 77ms/step - loss: 2.3030 - accuracy: 0.1003 - val_loss: 2.3028 - val_accuracy: 0.1004\n",
            "Epoch 7/20\n",
            "1200/1200 [==============================] - 92s 76ms/step - loss: 2.3033 - accuracy: 0.0994 - val_loss: 2.3029 - val_accuracy: 0.0976\n",
            "Epoch 8/20\n",
            "1200/1200 [==============================] - 90s 75ms/step - loss: 2.3031 - accuracy: 0.1028 - val_loss: 2.3036 - val_accuracy: 0.0970\n",
            "Epoch 9/20\n",
            "1200/1200 [==============================] - 88s 73ms/step - loss: 2.3031 - accuracy: 0.1014 - val_loss: 2.3027 - val_accuracy: 0.1014\n",
            "Epoch 10/20\n",
            "1200/1200 [==============================] - 88s 73ms/step - loss: 2.3027 - accuracy: 0.1013 - val_loss: 2.3028 - val_accuracy: 0.1005\n",
            "Epoch 11/20\n",
            "1200/1200 [==============================] - 86s 71ms/step - loss: 2.3023 - accuracy: 0.1029 - val_loss: 2.3042 - val_accuracy: 0.0976\n",
            "Epoch 12/20\n",
            "1200/1200 [==============================] - 84s 70ms/step - loss: 2.3012 - accuracy: 0.1050 - val_loss: 2.3046 - val_accuracy: 0.1023\n",
            "Epoch 13/20\n",
            "1200/1200 [==============================] - 85s 71ms/step - loss: 2.2999 - accuracy: 0.1058 - val_loss: 2.3059 - val_accuracy: 0.1037\n",
            "Epoch 14/20\n",
            "1200/1200 [==============================] - 84s 70ms/step - loss: 2.2958 - accuracy: 0.1109 - val_loss: 2.3136 - val_accuracy: 0.1024\n",
            "Epoch 15/20\n",
            "1200/1200 [==============================] - 83s 69ms/step - loss: 2.2881 - accuracy: 0.1180 - val_loss: 2.3189 - val_accuracy: 0.1016\n",
            "Epoch 16/20\n",
            "1200/1200 [==============================] - 83s 69ms/step - loss: 2.2703 - accuracy: 0.1311 - val_loss: 2.3297 - val_accuracy: 0.0970\n",
            "Epoch 17/20\n",
            "1200/1200 [==============================] - 84s 70ms/step - loss: 2.2341 - accuracy: 0.1548 - val_loss: 2.3721 - val_accuracy: 0.1037\n",
            "Epoch 18/20\n",
            "1200/1200 [==============================] - 83s 69ms/step - loss: 2.1689 - accuracy: 0.1857 - val_loss: 2.4384 - val_accuracy: 0.0942\n",
            "Epoch 19/20\n",
            "1200/1200 [==============================] - 83s 70ms/step - loss: 2.0715 - accuracy: 0.2323 - val_loss: 2.5729 - val_accuracy: 0.1054\n",
            "Epoch 20/20\n",
            "1200/1200 [==============================] - 85s 71ms/step - loss: 1.9518 - accuracy: 0.2834 - val_loss: 2.7124 - val_accuracy: 0.1006\n"
          ]
        }
      ]
    },
    {
      "cell_type": "code",
      "source": [
        "#Hyperbrand tunning is applied to the model "
      ],
      "metadata": {
        "id": "7rbbuIt8jFPo"
      },
      "execution_count": 46,
      "outputs": []
    },
    {
      "cell_type": "code",
      "execution_count": 47,
      "metadata": {
        "id": "YNWFZ45OteK7"
      },
      "outputs": [],
      "source": [
        "!pip install -q -U keras-tuner"
      ]
    },
    {
      "cell_type": "code",
      "execution_count": 48,
      "metadata": {
        "id": "xBy9-_N_wItZ"
      },
      "outputs": [],
      "source": [
        "import keras_tuner as kt\n",
        "from keras_tuner import RandomSearch"
      ]
    },
    {
      "cell_type": "code",
      "execution_count": 52,
      "metadata": {
        "id": "x2j1ztKspP9_",
        "colab": {
          "base_uri": "https://localhost:8080/"
        },
        "outputId": "8e79606f-54e7-469e-b60b-68f1bb4ee426"
      },
      "outputs": [
        {
          "output_type": "stream",
          "name": "stdout",
          "text": [
            " loss for test:  2.7403483390808105\n",
            " accuracy for test:  0.07779999822378159\n"
          ]
        }
      ],
      "source": [
        "#print accuarcy and loss for testset\n",
        "test_eval = model.evaluate(test_X, test_Y_one_hot, verbose = 0)\n",
        "print(' loss for test: ', test_eval[0])\n",
        "print(' accuracy for test: ', test_eval[1])\n"
      ]
    },
    {
      "cell_type": "code",
      "execution_count": 53,
      "metadata": {
        "id": "dcEhOZ5xpP-A",
        "colab": {
          "base_uri": "https://localhost:8080/",
          "height": 545
        },
        "outputId": "0d6cb45a-7153-4b31-f0b0-67e81d7d61a5"
      },
      "outputs": [
        {
          "output_type": "display_data",
          "data": {
            "text/plain": [
              "<Figure size 432x288 with 1 Axes>"
            ],
            "image/png": "[encoded data removed]"
          },
          "metadata": {
            "needs_background": "light"
          }
        },
        {
          "output_type": "display_data",
          "data": {
            "text/plain": [
              "<Figure size 432x288 with 1 Axes>"
            ],
            "image/png": "[encoded data removed]"
          },
          "metadata": {
            "needs_background": "light"
          }
        }
      ],
      "source": [
        "accuracy = fashion_train.history['accuracy']\n",
        "val_accuracy = fashion_train.history['val_accuracy']\n",
        "loss = fashion_train.history['loss']\n",
        "val_loss = fashion_train.history['val_loss']\n",
        "epochs = range(len(accuracy))\n",
        "\n",
        "plt.plot(epochs, accuracy, 'bo', label = 'Training accuracy')\n",
        "plt.plot(epochs, val_accuracy, 'b', label = 'Validation accuracy')\n",
        "plt.title('Trainimg and validation accuracy')\n",
        "plt.legend()\n",
        "plt.figure()\n",
        "plt.plot(epochs, loss, 'bo', label = 'Training loss')\n",
        "plt.plot(epochs, val_loss, 'b', label = 'Validation loss')\n",
        "plt.title('Training and validation loss')\n",
        "plt.legend()\n",
        "plt.show()"
      ]
    },
    {
      "cell_type": "code",
      "execution_count": 54,
      "metadata": {
        "id": "uDjBYYzKpP-A"
      },
      "outputs": [],
      "source": [
        "#using dropout for 20 epochs to solve overfitting and remove noise\n",
        "batch_size = 64\n",
        "epochs = 20\n",
        "num_classes = 10"
      ]
    },
    {
      "cell_type": "code",
      "execution_count": 55,
      "metadata": {
        "id": "7BOxf5D6pP-B"
      },
      "outputs": [],
      "source": [
        "#use max pooling and padding \n",
        "fashion_model = Sequential()\n",
        "fashion_model.add(Conv2D(32, kernel_size = (3, 3), activation = 'linear', input_shape=(28,28,1), padding = 'same'))\n",
        "fashion_model.add(LeakyReLU(alpha = 0.1))\n",
        "fashion_model.add(MaxPooling2D((2,2), padding = 'same'))\n",
        "fashion_model.add(Dropout(0.25))\n",
        "\n",
        "fashion_model.add(Conv2D(64, (3, 3), activation = 'linear', padding = 'same'))\n",
        "fashion_model.add(LeakyReLU(alpha = 0.1))\n",
        "fashion_model.add(MaxPooling2D(pool_size = (2,2), padding = 'same'))\n",
        "fashion_model.add(Dropout(0.25))\n",
        "\n",
        "fashion_model.add(Conv2D(128, (3, 3), activation = 'linear', padding = 'same'))\n",
        "fashion_model.add(LeakyReLU(alpha = 0.1))                  \n",
        "fashion_model.add(MaxPooling2D(pool_size=(2, 2), padding = 'same'))\n",
        "fashion_model.add(Dropout(0.4))\n",
        "\n",
        "fashion_model.add(Flatten())\n",
        "fashion_model.add(Dense(128, activation = 'linear'))\n",
        "fashion_model.add(LeakyReLU(alpha = 0.1)) \n",
        "fashion_model.add(Dropout(0.3))\n",
        "fashion_model.add(Dense(num_classes, activation = 'softmax'))\n"
      ]
    },
    {
      "cell_type": "code",
      "execution_count": 56,
      "metadata": {
        "id": "0b-1JoFhpP-C",
        "colab": {
          "base_uri": "https://localhost:8080/"
        },
        "outputId": "59829df5-92a1-46a3-86cb-f73504518dee"
      },
      "outputs": [
        {
          "output_type": "stream",
          "name": "stdout",
          "text": [
            "Model: \"sequential_4\"\n",
            "_________________________________________________________________\n",
            " Layer (type)                Output Shape              Param #   \n",
            "=================================================================\n",
            " conv2d_12 (Conv2D)          (None, 28, 28, 32)        320       \n",
            "                                                                 \n",
            " leaky_re_lu_16 (LeakyReLU)  (None, 28, 28, 32)        0         \n",
            "                                                                 \n",
            " max_pooling2d_12 (MaxPoolin  (None, 14, 14, 32)       0         \n",
            " g2D)                                                            \n",
            "                                                                 \n",
            " dropout (Dropout)           (None, 14, 14, 32)        0         \n",
            "                                                                 \n",
            " conv2d_13 (Conv2D)          (None, 14, 14, 64)        18496     \n",
            "                                                                 \n",
            " leaky_re_lu_17 (LeakyReLU)  (None, 14, 14, 64)        0         \n",
            "                                                                 \n",
            " max_pooling2d_13 (MaxPoolin  (None, 7, 7, 64)         0         \n",
            " g2D)                                                            \n",
            "                                                                 \n",
            " dropout_1 (Dropout)         (None, 7, 7, 64)          0         \n",
            "                                                                 \n",
            " conv2d_14 (Conv2D)          (None, 7, 7, 128)         73856     \n",
            "                                                                 \n",
            " leaky_re_lu_18 (LeakyReLU)  (None, 7, 7, 128)         0         \n",
            "                                                                 \n",
            " max_pooling2d_14 (MaxPoolin  (None, 4, 4, 128)        0         \n",
            " g2D)                                                            \n",
            "                                                                 \n",
            " dropout_2 (Dropout)         (None, 4, 4, 128)         0         \n",
            "                                                                 \n",
            " flatten_4 (Flatten)         (None, 2048)              0         \n",
            "                                                                 \n",
            " dense_8 (Dense)             (None, 128)               262272    \n",
            "                                                                 \n",
            " leaky_re_lu_19 (LeakyReLU)  (None, 128)               0         \n",
            "                                                                 \n",
            " dropout_3 (Dropout)         (None, 128)               0         \n",
            "                                                                 \n",
            " dense_9 (Dense)             (None, 10)                1290      \n",
            "                                                                 \n",
            "=================================================================\n",
            "Total params: 356,234\n",
            "Trainable params: 356,234\n",
            "Non-trainable params: 0\n",
            "_________________________________________________________________\n"
          ]
        }
      ],
      "source": [
        "#summary of model\n",
        "fashion_model.summary()"
      ]
    },
    {
      "cell_type": "code",
      "execution_count": 57,
      "metadata": {
        "id": "m95ZR3pqpP-C"
      },
      "outputs": [],
      "source": [
        "fashion_model.compile(loss = keras.losses.categorical_crossentropy, optimizer = keras.optimizers.Adam(), metrics = ['accuracy'])"
      ]
    },
    {
      "cell_type": "code",
      "execution_count": null,
      "metadata": {
        "id": "r2jZ-mqfpP-C",
        "colab": {
          "base_uri": "https://localhost:8080/"
        },
        "outputId": "078f4a1a-99a4-48b6-d716-99e8a27aff2b"
      },
      "outputs": [
        {
          "output_type": "stream",
          "name": "stdout",
          "text": [
            "Epoch 1/20\n",
            "750/750 [==============================] - 107s 142ms/step - loss: 0.5781 - accuracy: 0.7867 - val_loss: 0.3728 - val_accuracy: 0.8623\n",
            "Epoch 2/20\n",
            "750/750 [==============================] - ETA: 0s - loss: 0.3711 - accuracy: 0.8639"
          ]
        }
      ],
      "source": [
        "fashion_train_dropout = fashion_model.fit(train_X, train_label, batch_size = batch_size, epochs = epochs, verbose = 1, validation_data = (valid_X, valid_label))"
      ]
    },
    {
      "cell_type": "code",
      "execution_count": null,
      "metadata": {
        "id": "0P6m88X-pP-C"
      },
      "outputs": [],
      "source": [
        "fashion_model.save(\"fashion_model_dropout.h5py\")"
      ]
    },
    {
      "cell_type": "code",
      "execution_count": null,
      "metadata": {
        "id": "e_qFCn0dpP-C"
      },
      "outputs": [],
      "source": [
        "test_eval = fashion_model.evaluate(test_X, test_Y_one_hot, verbose = 1)"
      ]
    },
    {
      "cell_type": "code",
      "execution_count": null,
      "metadata": {
        "id": "596b6G_1pP-D"
      },
      "outputs": [],
      "source": [
        "print('Test loss: ', test_eval[0])\n",
        "print('Test accuracy: ', test_eval[1])"
      ]
    },
    {
      "cell_type": "code",
      "execution_count": null,
      "metadata": {
        "id": "pGTZvaRDpP-D"
      },
      "outputs": [],
      "source": [
        "accuracy = fashion_train_dropout.history['accuracy']\n",
        "val_accuracy = fashion_train_dropout.history['val_accuracy']\n",
        "loss = fashion_train_dropout.history['loss']\n",
        "val_loss = fashion_train_dropout.history['val_loss']\n",
        "epochs = range(len(accuracy))\n",
        "plt.plot(epochs, accuracy, 'bo', label='Training accuracy')\n",
        "plt.plot(epochs, val_accuracy, 'b', label='Validation accuracy')\n",
        "plt.title('Training and validation accuracy')\n",
        "plt.legend()\n",
        "plt.figure()\n",
        "plt.plot(epochs, loss, 'bo', label='Training loss')\n",
        "plt.plot(epochs, val_loss, 'b', label='Validation loss')\n",
        "plt.title('Training and validation loss')\n",
        "plt.legend()\n",
        "plt.show()"
      ]
    },
    {
      "cell_type": "code",
      "execution_count": null,
      "metadata": {
        "id": "PSIalI7vpP-E"
      },
      "outputs": [],
      "source": [
        "predictes_classes = fashion_model.predict(test_X)\n",
        "predicted_classes = np.argmax(np.round(predictes_classes), axis = 1)\n",
        "predicted_classes.shape, test_Y.shape"
      ]
    },
    {
      "cell_type": "code",
      "execution_count": null,
      "metadata": {
        "id": "YWc9gS-3pP-E"
      },
      "outputs": [],
      "source": [
        "correct = np.where(predicted_classes == test_Y)[0]\n",
        "\n",
        "print (\"Found %d correct labels\" % len(correct))\n",
        "for i, correct in enumerate(correct[:9]):\n",
        "    plt.subplot(3, 3, i + 1)\n",
        "    plt.imshow(test_X[correct].reshape(28, 28), cmap = 'gray', interpolation = 'none')\n",
        "    plt.title(\"Predicted {}, Class {}\".format(predicted_classes[correct], test_Y[correct]))    \n",
        "    plt.tight_layout()"
      ]
    },
    {
      "cell_type": "code",
      "execution_count": null,
      "metadata": {
        "id": "o8Ysj0depP-F"
      },
      "outputs": [],
      "source": [
        "incorrect = np.where(predicted_classes!=test_Y)[0]\n",
        "print (\"Found %d incorrect labels\" % len(incorrect))\n",
        "for i, incorrect in enumerate(incorrect[:9]):\n",
        "    plt.subplot(3,3,i+1)\n",
        "    plt.imshow(test_X[incorrect].reshape(28,28), cmap='gray', interpolation='none')\n",
        "    plt.title(\"Predicted {}, Class {}\".format(predicted_classes[incorrect], test_Y[incorrect]))\n",
        "    plt.tight_layout()"
      ]
    },
    {
      "cell_type": "code",
      "execution_count": null,
      "metadata": {
        "id": "d9pgk_w_pP-F"
      },
      "outputs": [],
      "source": [
        "from sklearn.metrics import classification_report\n",
        "target_names = [\"Class {}\".format(i) for i in range(num_classes)]\n",
        "print(classification_report(test_Y, predicted_classes, target_names=target_names))"
      ]
    },
    {
      "cell_type": "code",
      "execution_count": null,
      "metadata": {
        "id": "fmG-5LlqpP-G"
      },
      "outputs": [],
      "source": [
        ""
      ]
    }
  ],
  "metadata": {
    "colab": {
      "collapsed_sections": [],
      "name": "part1.ipynb",
      "provenance": []
    },
    "kernelspec": {
      "display_name": "Python 3",
      "language": "python",
      "name": "python3"
    },
    "language_info": {
      "codemirror_mode": {
        "name": "ipython",
        "version": 3
      },
      "file_extension": ".py",
      "mimetype": "text/x-python",
      "name": "python",
      "nbconvert_exporter": "python",
      "pygments_lexer": "ipython3",
      "version": "3.7.3"
    }
  },
  "nbformat": 4,
  "nbformat_minor": 0
}